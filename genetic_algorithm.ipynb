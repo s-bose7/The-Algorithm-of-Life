{
 "cells": [
  {
   "cell_type": "markdown",
   "metadata": {},
   "source": [
    "Genetic algorithm is a stochastic search optimization algorithm inspired by the theory of evolution by means of natural selection. The overall idea is, in a generation, more productive or fitter individuals are likely to pass on their genes to the offsprings. \n",
    "\n",
    "There are 5 steps to this algorithm:\n",
    "1. Genetic representation of individuals\n",
    "2. Fitness evaluation\n",
    "3. Selection\n",
    "4. Genetic recombination or crossover or reproduction\n",
    "5. Mutation  "
   ]
  },
  {
   "cell_type": "code",
   "execution_count": 204,
   "metadata": {},
   "outputs": [],
   "source": [
    "from random import randint\n",
    "\n",
    "n_bits = 20\n",
    "MAX_POPULATION = 10\n",
    "MAX_GENERATION_SPAN = 10\n"
   ]
  },
  {
   "cell_type": "code",
   "execution_count": 205,
   "metadata": {},
   "outputs": [
    {
     "name": "stdout",
     "output_type": "stream",
     "text": [
      "10001010110110001010\n",
      "01111010101011001110\n",
      "00110011011000011001\n",
      "10111110000101010001\n",
      "00001110001100111011\n",
      "01011111101111000101\n",
      "11101011010000100011\n",
      "01000111010011010001\n",
      "10010101110100011110\n",
      "10000000101011111000\n"
     ]
    }
   ],
   "source": [
    "\n",
    "def show_genes(genes: list)->None:\n",
    "    for gene in genes: \n",
    "        print(gene)\n",
    "\n",
    "# initial population of random bitstring\n",
    "genes = [''.join([str(randint(0, 1)) for _ in range(n_bits)]) for _ in range(MAX_POPULATION)]\n",
    "show_genes(genes)"
   ]
  },
  {
   "cell_type": "code",
   "execution_count": 206,
   "metadata": {},
   "outputs": [],
   "source": [
    "\n",
    "def get_fitness_score(gene: str)->int:\n",
    "    return randint(-1, 0)\n",
    "\n",
    "# evaluate fitness\n",
    "scores = [get_fitness_score(genes[pop]) for pop in range(MAX_POPULATION)]"
   ]
  },
  {
   "cell_type": "code",
   "execution_count": 207,
   "metadata": {},
   "outputs": [],
   "source": [
    "# Tournament selection\n",
    "def selection(genes: list[str], scores: list[int], k=3)->str:\n",
    "    '''\n",
    "    Each parent is the fittest out of k randomly chosen genes from the population\n",
    "    '''\n",
    "    selected_gene = randint(0, MAX_POPULATION-1)\n",
    "    for pop in range(0, MAX_POPULATION, k-1):\n",
    "        if scores[pop] < scores[selected_gene]:\n",
    "            selected_gene = pop\n",
    "\n",
    "    return genes[selected_gene] \n",
    "\n",
    "\n",
    "# select parents\n",
    "fitter_popuation = [selection(genes, scores) for _ in range(MAX_POPULATION)]\n"
   ]
  },
  {
   "cell_type": "code",
   "execution_count": 208,
   "metadata": {},
   "outputs": [],
   "source": [
    "\n",
    "def crossover(parent_1: str, parent_2: str, CROSSOVER_RATE=5)->tuple[str]:\n",
    "    return parent_1, parent_2\n",
    "\n",
    "\n",
    "# recombination\n",
    "recombination = []\n",
    "for pop in range(0, MAX_POPULATION, 2):\n",
    "    recombination.extend(\n",
    "        [gene for gene in crossover(fitter_popuation[pop], fitter_popuation[pop+1])]\n",
    "    )"
   ]
  },
  {
   "cell_type": "code",
   "execution_count": 209,
   "metadata": {},
   "outputs": [],
   "source": [
    "\n",
    "def mutation(gene: str, MUTATION_RATE=5):\n",
    "    return gene\n",
    "\n",
    "# mutation\n",
    "offsprings = [mutation(offspring) for offspring in recombination]"
   ]
  },
  {
   "cell_type": "code",
   "execution_count": 210,
   "metadata": {},
   "outputs": [
    {
     "name": "stdout",
     "output_type": "stream",
     "text": [
      "> 1, new best f(01111010101011001110) = -1.000\n",
      "> 2, new best f(10010101110100011110) = -1.000\n",
      "> 3, new best f(10010101110100011110) = -1.000\n",
      "> 4, new best f(10010101110100011110) = -1.000\n",
      "> 5, new best f(10010101110100011110) = -1.000\n",
      "> 6, new best f(10010101110100011110) = -1.000\n",
      "> 7, new best f(10010101110100011110) = -1.000\n",
      "> 8, new best f(10010101110100011110) = -1.000\n",
      "> 9, new best f(10010101110100011110) = -1.000\n"
     ]
    }
   ],
   "source": [
    "\n",
    "def genetic_algorithm(genes: list[str], generation=1):\n",
    "    if generation == MAX_GENERATION_SPAN:\n",
    "        return\n",
    "    # keep track of best solution\n",
    "    fittest_score, fittest_individual = 0, genes[0]\n",
    "    scores = [get_fitness_score(genes[pop]) for pop in range(MAX_POPULATION)]\n",
    "    # check for new best solution\n",
    "    for i in range(MAX_POPULATION):\n",
    "        if scores[i] < fittest_score:\n",
    "            fittest_score, fittest_individual = scores[i], genes[i]\n",
    "            print(\"> %d, new best f(%s) = %.3f\"%(generation,  fittest_individual, fittest_score))\n",
    "    \n",
    "    fitter_popuation = [selection(genes, scores) for _ in range(MAX_POPULATION)]\n",
    "    recombination = []\n",
    "    for pop in range(0, MAX_POPULATION, 2):\n",
    "        recombination.extend(\n",
    "            [gene for gene in crossover(fitter_popuation[pop], fitter_popuation[pop+1])]\n",
    "        )\n",
    "    offsprings = [mutation(offspring) for offspring in recombination]\n",
    "    # substitute new generation\n",
    "    genes = offsprings\n",
    "    genetic_algorithm(genes, generation=generation+1)\n",
    "\n",
    "\n",
    "genetic_algorithm(genes)"
   ]
  }
 ],
 "metadata": {
  "kernelspec": {
   "display_name": "taol",
   "language": "python",
   "name": "python3"
  },
  "language_info": {
   "codemirror_mode": {
    "name": "ipython",
    "version": 3
   },
   "file_extension": ".py",
   "mimetype": "text/x-python",
   "name": "python",
   "nbconvert_exporter": "python",
   "pygments_lexer": "ipython3",
   "version": "3.10.12"
  }
 },
 "nbformat": 4,
 "nbformat_minor": 2
}
